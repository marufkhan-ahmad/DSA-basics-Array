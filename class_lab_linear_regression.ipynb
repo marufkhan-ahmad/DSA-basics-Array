{
  "nbformat": 4,
  "nbformat_minor": 0,
  "metadata": {
    "colab": {
      "private_outputs": true,
      "provenance": [],
      "authorship_tag": "ABX9TyMM7+y6uGML959W8EkoNnkg",
      "include_colab_link": true
    },
    "kernelspec": {
      "name": "python3",
      "display_name": "Python 3"
    },
    "language_info": {
      "name": "python"
    }
  },
  "cells": [
    {
      "cell_type": "markdown",
      "metadata": {
        "id": "view-in-github",
        "colab_type": "text"
      },
      "source": [
        "<a href=\"https://colab.research.google.com/github/marufkhan-ahmad/DSA-basics-Array/blob/main/class_lab_linear_regression.ipynb\" target=\"_parent\"><img src=\"https://colab.research.google.com/assets/colab-badge.svg\" alt=\"Open In Colab\"/></a>"
      ]
    },
    {
      "cell_type": "code",
      "execution_count": null,
      "metadata": {
        "id": "py9PL4EF71cg"
      },
      "outputs": [],
      "source": [
        "import numpy as np\n",
        "from sklearn.linear_model import LinearRegression"
      ]
    },
    {
      "cell_type": "code",
      "source": [
        "# create the dataset\n",
        "X = np.array([[1], [2], [3], [4], [5]])\n",
        "y = np.array([2, 4, 5, 4, 6])\n",
        "\n",
        "# create the linear regression model and fit the data\n",
        "model = LinearRegression().fit(X, y)\n",
        "\n",
        "# print the slope and y-intercept\n",
        "print(\"Slope: \", model.coef_[0])\n",
        "print(\"Y-intercept: \", model.intercept_)"
      ],
      "metadata": {
        "id": "8nei5s498buN"
      },
      "execution_count": null,
      "outputs": []
    },
    {
      "cell_type": "code",
      "source": [
        "\n",
        "import matplotlib.pyplot as plt\n",
        "\n",
        "# generate some data points for plotting the regression line\n",
        "y_pred = model.predict(X)\n",
        "\n",
        "# plot the data points and regression line\n",
        "plt.scatter(X, y)\n",
        "plt.plot(X, y_pred, color='red')\n",
        "plt.show()"
      ],
      "metadata": {
        "id": "1vKtUmF78lzs"
      },
      "execution_count": null,
      "outputs": []
    },
    {
      "cell_type": "code",
      "source": [
        "import seaborn as sns\n",
        "import pandas as pd\n",
        "# create a DataFrame with the X and y values\n",
        "df = pd.DataFrame({'X': X.reshape(-1), 'y': y})\n",
        "\n",
        "# plot the data points and regression line using seaborn\n",
        "sns.lmplot(x='X', y='y', data=df)\n",
        "plt.show()"
      ],
      "metadata": {
        "id": "VPqRZsab8pWl"
      },
      "execution_count": null,
      "outputs": []
    },
    {
      "cell_type": "code",
      "source": [
        "# calculate the R^2 score\n",
        "r2_score = model.score(X, y)\n",
        "print(\"R^2 score: \", r2_score)\n"
      ],
      "metadata": {
        "id": "oL3usbyU8tAM"
      },
      "execution_count": null,
      "outputs": []
    },
    {
      "cell_type": "code",
      "source": [
        "\n",
        "# predict the value of y for a new value of x\n",
        "x_new = [[6]]\n",
        "#x_new = np.array([[6]])\n",
        "y_new = model.predict(x_new)\n",
        "print(\"Predicted value of y for x = 6: \", y_new[0])"
      ],
      "metadata": {
        "id": "4L8g8ype8wQa"
      },
      "execution_count": null,
      "outputs": []
    },
    {
      "cell_type": "markdown",
      "source": [
        "In the code above, we first create the dataset using numpy arrays. Then, we create an instance of the LinearRegression class and fit the data using the fit() method. We then print the values of the slope and y-intercept using the coef_ and intercept_ attributes of the model object. Finally, we predict the value of y for a new value of x (6 in this case) using the predict() method and print the result."
      ],
      "metadata": {
        "id": "bwrlD9ob89oA"
      }
    },
    {
      "cell_type": "code",
      "source": [
        "import statsmodels.api as sm\n",
        "\n",
        "# add a constant to X for the intercept term\n",
        "X = sm.add_constant(X)\n",
        "\n",
        "# create and fit the OLS model\n",
        "model_ols = sm.OLS(y, X).fit()\n",
        "\n",
        "# print the model summary\n",
        "print(model_ols.summary())"
      ],
      "metadata": {
        "id": "SAZkB7EW8_-R"
      },
      "execution_count": null,
      "outputs": []
    },
    {
      "cell_type": "markdown",
      "source": [
        "In OLS (Ordinary Least Squares) regression, the P>|t| value represents the p-value associated with the t-statistic for each coefficient in the model.\n",
        "\n",
        "The t-statistic is calculated by dividing the estimated coefficient by its standard error. The P>|t| value is the probability of observing a t-statistic as extreme as the one computed for the coefficient, assuming that the null hypothesis is true (i.e., the coefficient is equal to zero).\n",
        "\n",
        "The [0.025, 0.975] interval is known as the confidence interval for the coefficient estimate. It represents a range of values within which we can be confident that the true value of the coefficient lies with a certain level of probability (usually 95%).\n",
        "\n",
        "Therefore, in simple terms, the P>|t| value indicates the statistical significance of the coefficient estimate. A small P>|t| value (e.g., less than 0.05) suggests that the coefficient is statistically significant, meaning that it is unlikely to have occurred by chance alone. Conversely, a large P>|t| value (e.g., greater than 0.05) suggests that the coefficient is not statistically significant and may have occurred by chance.\n",
        "\n",
        "The confidence interval [0.025, 0.975] provides a range of plausible values for the true value of the coefficient. If this interval includes zero, then we cannot reject the null hypothesis and conclude that the coefficient is not statistically significant. If the interval does not include zero, then we can reject the null hypothesis and conclude that the coefficient is statistically significant at the given level of probability."
      ],
      "metadata": {
        "id": "Ywu0AO249H-m"
      }
    }
  ]
}